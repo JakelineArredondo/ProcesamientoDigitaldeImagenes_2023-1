{
  "nbformat": 4,
  "nbformat_minor": 0,
  "metadata": {
    "colab": {
      "provenance": [],
      "authorship_tag": "ABX9TyOqY8nNJ7Gd1Kg+IRDrHPpO",
      "include_colab_link": true
    },
    "kernelspec": {
      "name": "python3",
      "display_name": "Python 3"
    },
    "language_info": {
      "name": "python"
    }
  },
  "cells": [
    {
      "cell_type": "markdown",
      "metadata": {
        "id": "view-in-github",
        "colab_type": "text"
      },
      "source": [
        "<a href=\"https://colab.research.google.com/github/JakelineArredondo/ProcesamientoDigitaldeImagenes_2023-1/blob/main/Calculadora.ipynb\" target=\"_parent\"><img src=\"https://colab.research.google.com/assets/colab-badge.svg\" alt=\"Open In Colab\"/></a>"
      ]
    },
    {
      "cell_type": "code",
      "source": [
        "class calculadora:\n",
        "    \"\"\"\n",
        "    Implementación de calculadora usando programación orientada en objetos\n",
        "    \"\"\"\n",
        "\n",
        "    def __init__(self,n1,n2):\n",
        "        self.n1 = float(n1)\n",
        "        self.n2 = float(n2)\n",
        "    \n",
        "    def sumar(n1,n2):\n",
        "        return n1 + n2\n",
        "    \n",
        "    def restar(n1,n2):\n",
        "        return n1 - n2\n",
        "\n",
        "    def multiplicar(n1,n2):\n",
        "        return n1 * n2\n",
        "        \n",
        "    def dividir(n1,n2):\n",
        "        return n1 / n2"
      ],
      "metadata": {
        "id": "-lxgnz-5Khay"
      },
      "execution_count": null,
      "outputs": []
    },
    {
      "cell_type": "code",
      "source": [
        "calculadora.sumar(9,0)"
      ],
      "metadata": {
        "colab": {
          "base_uri": "https://localhost:8080/"
        },
        "id": "I_9eqtLKIT6k",
        "outputId": "ea117263-059b-4697-baf3-94d915a996da"
      },
      "execution_count": null,
      "outputs": [
        {
          "output_type": "execute_result",
          "data": {
            "text/plain": [
              "9"
            ]
          },
          "metadata": {},
          "execution_count": 6
        }
      ]
    }
  ]
}